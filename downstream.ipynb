{
 "cells": [
  {
   "cell_type": "markdown",
   "metadata": {},
   "source": [
    "## Imports"
   ]
  },
  {
   "cell_type": "code",
   "execution_count": null,
   "metadata": {},
   "outputs": [],
   "source": [
    "import torch\n",
    "import math\n",
    "import torch.nn as nn\n",
    "import numpy as np\n",
    "import pandas as pd\n",
    "import torch.nn.functional as F\n",
    "from torch.utils.data import DataLoader\n",
    "from torch.optim import lr_scheduler  # Para fazer o fine Tunning gradual (variando o learning rate)\n",
    "from data_modules.downstream import HarDataset\n",
    "from models.backbone import Backbone, input_linear_size\n",
    "from data.datas import Datas\n",
    "from utils.functions import saveBestModel, loadBestModel"
   ]
  },
  {
   "cell_type": "markdown",
   "metadata": {},
   "source": [
    "## Hyperparam"
   ]
  },
  {
   "cell_type": "code",
   "execution_count": null,
   "metadata": {},
   "outputs": [],
   "source": [
    "num_epoch = 500\n",
    "batch_size = 10\n",
    "learning_rate = 0.01\n",
    "device = torch.device('cuda' if torch.cuda.is_available() else 'cpu')\n",
    "printQtd = 1\n",
    "dataMain = Datas.MOTION.value\n",
    "isFreezing = True"
   ]
  },
  {
   "cell_type": "markdown",
   "metadata": {},
   "source": [
    "## Load Data"
   ]
  },
  {
   "cell_type": "code",
   "execution_count": null,
   "metadata": {},
   "outputs": [],
   "source": [
    "dataset_train = HarDataset(path=\"train\")\n",
    "data_loader_train = DataLoader(dataset=dataset_train, batch_size=batch_size, shuffle=True, num_workers=2)\n",
    "\n",
    "dataset_validation = HarDataset(path=\"validation\")\n",
    "data_loader_validation = DataLoader(dataset=dataset_validation, batch_size=batch_size, shuffle=True, num_workers=2)\n",
    "\n",
    "dataset_test = HarDataset(path=\"test\")\n",
    "data_loader_test = DataLoader(dataset=dataset_test, batch_size=batch_size, shuffle=True, num_workers=2)\n",
    "\n",
    "nums_labels = len(dataset_train.labels)"
   ]
  },
  {
   "cell_type": "markdown",
   "metadata": {},
   "source": [
    "## Define Model"
   ]
  },
  {
   "cell_type": "markdown",
   "metadata": {},
   "source": [
    "#### LoadBackbone"
   ]
  },
  {
   "cell_type": "code",
   "execution_count": null,
   "metadata": {},
   "outputs": [],
   "source": [
    "backbone = Backbone()\n",
    "try:\n",
    "    backbone.load_state_dict(loadBestModel(path='best_models/', file_name=f'backbone_{dataMain}', device=device))\n",
    "    backbone.requires_grad_(isFreezing) \n",
    "    # for param in backbone.parameters():\n",
    "    #     param.requires_grad = True\n",
    "except:\n",
    "    print(\"Erro ao carregar modelo de backbone!\")"
   ]
  },
  {
   "cell_type": "markdown",
   "metadata": {},
   "source": [
    "#### Generate Model"
   ]
  },
  {
   "cell_type": "code",
   "execution_count": null,
   "metadata": {},
   "outputs": [],
   "source": [
    "\n",
    "class Conv1DNet(nn.Module):\n",
    "    def __init__(self, backbone):\n",
    "        super(Conv1DNet, self).__init__()\n",
    "        self.backbone = backbone\n",
    "        self.linear1 = nn.Linear(input_linear_size, 320)\n",
    "        self.linear2 = nn.Linear(320, nums_labels)\n",
    "    \n",
    "    def forward(self, x):\n",
    "        x = self.backbone(x)\n",
    "        x = F.leaky_relu(input=self.linear1(x), negative_slope=0.01)\n",
    "        x = F.leaky_relu(input=self.linear2(x), negative_slope=0.01)\n",
    "        return x\n",
    "\n",
    "model = Conv1DNet(backbone=backbone)\n",
    "criterion = nn.CrossEntropyLoss()\n",
    "optimizer = torch.optim.SGD(model.parameters(), lr=learning_rate)\n",
    "n_total_steps = len(data_loader_train)\n",
    "step_lr_scheduler = lr_scheduler.StepLR(optimizer=optimizer, step_size=100, gamma=0.5)      # a cada 'step_size' epocas a learning rate é multiplicada por 'gamma'\n"
   ]
  },
  {
   "cell_type": "markdown",
   "metadata": {},
   "source": [
    "## Train Loop"
   ]
  },
  {
   "cell_type": "code",
   "execution_count": null,
   "metadata": {},
   "outputs": [],
   "source": [
    "train_errors = np.asarray([])\n",
    "validation_errors = np.asarray([])\n",
    "best_val_loss = 500\n",
    "for epoch in range(num_epoch):\n",
    "    # treinamento \n",
    "    model.train()\n",
    "    train_loss = 0\n",
    "    for i, (data, labels) in enumerate(data_loader_train):\n",
    "        outputs = model(data)\n",
    "        loss = criterion(outputs, labels)\n",
    "        train_loss += loss.item()\n",
    "        optimizer.zero_grad()\n",
    "        loss.backward()\n",
    "        optimizer.step()\n",
    "\n",
    "        if (i+1) % math.floor(n_total_steps/printQtd) == 0:\n",
    "            print (f'Epoch [{epoch+1:4d}/{num_epoch}], Step [{i+1:4d}/{n_total_steps}], Loss: {loss.item():.4f}', end= \"\" if n_total_steps/printQtd+i >= n_total_steps else \"\\n\")\n",
    "\n",
    "    # Validação\n",
    "    model.eval()\n",
    "    val_loss = 0\n",
    "    with torch.no_grad():\n",
    "        for data, target in data_loader_validation:\n",
    "            output = model(data)\n",
    "            val_loss += criterion(output, target).item()\n",
    "    \n",
    "    val_loss /= len(data_loader_validation)\n",
    "    print(f' Validation Loss: {val_loss:.4f}')\n",
    "\n",
    "    train_errors = np.append(train_errors, train_loss/len(data_loader_train))\n",
    "    validation_errors = np.append(validation_errors, val_loss)\n",
    "\n",
    "    if val_loss < best_val_loss:\n",
    "        step_lr_scheduler.step()\n",
    "        best_val_loss = val_loss\n",
    "        best_model = model.state_dict()  # Salva os parâmetros do modelo\n",
    "\n",
    "\n",
    "model.load_state_dict(best_model)"
   ]
  },
  {
   "cell_type": "markdown",
   "metadata": {},
   "source": [
    "## Results"
   ]
  },
  {
   "cell_type": "code",
   "execution_count": null,
   "metadata": {},
   "outputs": [],
   "source": [
    "accTotal = 0\n",
    "with torch.no_grad():\n",
    "    n_correct = 0\n",
    "    n_samples = 0\n",
    "    n_class_correct = [0 for i in range(nums_labels)]\n",
    "    n_class_samples = [0 for i in range(nums_labels)]\n",
    "    n_each_class_samples = [0 for i in range(nums_labels)]\n",
    "\n",
    "    for data, labels in data_loader_test:\n",
    "        outputs = model(data)\n",
    "\n",
    "        _, predicted = torch.max(outputs, 1)\n",
    "        n_samples += labels.size(0)\n",
    "        n_correct += (predicted == labels).sum().item()\n",
    "\n",
    "        for i in range(labels.shape[0]):\n",
    "            label = labels[i]\n",
    "            pred  = predicted[i]\n",
    "            if (label == pred):\n",
    "                n_class_correct[label] += 1\n",
    "            n_class_samples[label] += 1\n",
    "            n_each_class_samples[pred] += 1\n",
    "\n",
    "    accTotal = 100.0 * n_correct / n_samples\n",
    "    print(f'Accuracy of the network: {accTotal} %')\n",
    "\n",
    "    for i in range(nums_labels):\n",
    "        acc = 100.0 * n_class_correct[i] / n_class_samples[i]\n",
    "        print(f'Accuracy of {dataset_test.getLabel(i)} ({n_class_correct[i]}/{n_class_samples[i]} | {n_each_class_samples[i]}): {acc} %')"
   ]
  },
  {
   "cell_type": "markdown",
   "metadata": {},
   "source": [
    "## Save Models"
   ]
  },
  {
   "cell_type": "code",
   "execution_count": null,
   "metadata": {},
   "outputs": [],
   "source": [
    "saveBestModel(accuracy=accTotal, batch_size=batch_size, epoch=num_epoch, model=model, path=\"best_models/\", file_name=\"downstream\")\n",
    "\n",
    "df = pd.DataFrame({\n",
    "    \"train\" : train_errors,\n",
    "    \"validation\" : validation_errors\n",
    "})\n",
    "df.to_csv(\"results_data/downstream_train.dat\", sep=\" \", index=False)"
   ]
  }
 ],
 "metadata": {
  "kernelspec": {
   "display_name": "Python 3 (ipykernel)",
   "language": "python",
   "name": "python3"
  },
  "language_info": {
   "codemirror_mode": {
    "name": "ipython",
    "version": 3
   },
   "file_extension": ".py",
   "mimetype": "text/x-python",
   "name": "python",
   "nbconvert_exporter": "python",
   "pygments_lexer": "ipython3",
   "version": "3.11.7"
  }
 },
 "nbformat": 4,
 "nbformat_minor": 4
}
