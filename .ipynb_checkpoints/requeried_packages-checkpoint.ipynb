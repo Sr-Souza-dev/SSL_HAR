{
 "cells": [
  {
   "cell_type": "code",
   "execution_count": null,
   "metadata": {},
   "outputs": [],
   "source": [
    "!pip install torch torchvision torchaudio\n",
    "!pip install matplotlib\n",
    "!pip install scikit-learn\n",
    "!pip install numpy\n",
    "!pip install transforms3d\n",
    "!pip install scipy\n",
    "!pip install pandas"
   ]
  }
 ],
 "metadata": {
  "language_info": {
   "name": "python"
  }
 },
 "nbformat": 4,
 "nbformat_minor": 2
}
